{
 "cells": [
  {
   "cell_type": "markdown",
   "id": "f102676a-b4fe-4398-918b-384d603c1f2f",
   "metadata": {},
   "source": [
    "Calculator"
   ]
  },
  {
   "cell_type": "code",
   "execution_count": 1,
   "id": "c24c0080-7afc-4d47-8e37-8236ef49e3a2",
   "metadata": {},
   "outputs": [
    {
     "name": "stdout",
     "output_type": "stream",
     "text": [
      "==================================================\n",
      "\t\tCALCULATOR\t\t\n",
      "==================================================\n",
      "\t\t1.Addition\n",
      "\t\t2.Substraction\n",
      "\t\t3.Multiplication\n",
      "\t\t4.Division\n",
      "\t\t5.Power\n",
      "\t\t6.Exit\n",
      "==================================================\n"
     ]
    },
    {
     "name": "stdin",
     "output_type": "stream",
     "text": [
      "Enter Your Choice: 1\n",
      "Enter the First Number: 12\n",
      "Enter the Second Number: 23\n"
     ]
    },
    {
     "name": "stdout",
     "output_type": "stream",
     "text": [
      "don't use alnums,alphabets,special symbols or space--try again\n",
      "==================================================\n",
      "\t\tCALCULATOR\t\t\n",
      "==================================================\n",
      "\t\t1.Addition\n",
      "\t\t2.Substraction\n",
      "\t\t3.Multiplication\n",
      "\t\t4.Division\n",
      "\t\t5.Power\n",
      "\t\t6.Exit\n",
      "==================================================\n"
     ]
    },
    {
     "name": "stdin",
     "output_type": "stream",
     "text": [
      "Enter Your Choice: 2\n",
      "Enter the First Number: 23\n",
      "Enter the Second Number: 34\n"
     ]
    },
    {
     "name": "stdout",
     "output_type": "stream",
     "text": [
      "Subtraction of 23.0,34.0 is -11.0\n",
      "==================================================\n",
      "\t\tCALCULATOR\t\t\n",
      "==================================================\n",
      "\t\t1.Addition\n",
      "\t\t2.Substraction\n",
      "\t\t3.Multiplication\n",
      "\t\t4.Division\n",
      "\t\t5.Power\n",
      "\t\t6.Exit\n",
      "==================================================\n"
     ]
    },
    {
     "name": "stdin",
     "output_type": "stream",
     "text": [
      "Enter Your Choice: 3\n",
      "Enter the First Number: 345\n",
      "Enter the Second Number: 5678\n"
     ]
    },
    {
     "name": "stdout",
     "output_type": "stream",
     "text": [
      "Multiplication of 345.0,5678.0 is 1958910.0\n",
      "==================================================\n",
      "\t\tCALCULATOR\t\t\n",
      "==================================================\n",
      "\t\t1.Addition\n",
      "\t\t2.Substraction\n",
      "\t\t3.Multiplication\n",
      "\t\t4.Division\n",
      "\t\t5.Power\n",
      "\t\t6.Exit\n",
      "==================================================\n"
     ]
    },
    {
     "name": "stdin",
     "output_type": "stream",
     "text": [
      "Enter Your Choice: 4\n",
      "Enter the First Number: \n"
     ]
    },
    {
     "name": "stdout",
     "output_type": "stream",
     "text": [
      "Please enter valid number \n",
      "Division of 345.0,5678.0 is 0.06076083127861923\n",
      "==================================================\n",
      "\t\tCALCULATOR\t\t\n",
      "==================================================\n",
      "\t\t1.Addition\n",
      "\t\t2.Substraction\n",
      "\t\t3.Multiplication\n",
      "\t\t4.Division\n",
      "\t\t5.Power\n",
      "\t\t6.Exit\n",
      "==================================================\n"
     ]
    },
    {
     "name": "stdin",
     "output_type": "stream",
     "text": [
      "Enter Your Choice: 23\n"
     ]
    },
    {
     "name": "stdout",
     "output_type": "stream",
     "text": [
      "Invalid choice! Please select a valid operation.\n",
      "==================================================\n",
      "\t\tCALCULATOR\t\t\n",
      "==================================================\n",
      "\t\t1.Addition\n",
      "\t\t2.Substraction\n",
      "\t\t3.Multiplication\n",
      "\t\t4.Division\n",
      "\t\t5.Power\n",
      "\t\t6.Exit\n",
      "==================================================\n"
     ]
    },
    {
     "name": "stdin",
     "output_type": "stream",
     "text": [
      "Enter Your Choice: 5\n",
      "Enter the First Number: 23\n",
      "Enter the Second Number: 3\n"
     ]
    },
    {
     "name": "stdout",
     "output_type": "stream",
     "text": [
      "Power of 23.0,3.0 is 12167.0\n",
      "==================================================\n",
      "\t\tCALCULATOR\t\t\n",
      "==================================================\n",
      "\t\t1.Addition\n",
      "\t\t2.Substraction\n",
      "\t\t3.Multiplication\n",
      "\t\t4.Division\n",
      "\t\t5.Power\n",
      "\t\t6.Exit\n",
      "==================================================\n"
     ]
    },
    {
     "name": "stdin",
     "output_type": "stream",
     "text": [
      "Enter Your Choice: 6\n"
     ]
    },
    {
     "name": "stdout",
     "output_type": "stream",
     "text": [
      "Thank You for using the calculator!\n"
     ]
    }
   ],
   "source": [
    "def calculator():\n",
    "    print(\"=\"*50)\n",
    "    print(\"\\t\\tCALCULATOR\\t\\t\")\n",
    "    print(\"=\"*50)\n",
    "    print(\"\\t\\t1.Addition\")\n",
    "    print(\"\\t\\t2.Substraction\")\n",
    "    print(\"\\t\\t3.Multiplication\")\n",
    "    print(\"\\t\\t4.Division\")\n",
    "    print(\"\\t\\t5.Power\")\n",
    "    print(\"\\t\\t6.Exit\")\n",
    "    print(\"=\"*50)\n",
    "#Main Program\n",
    "while(True):\n",
    "    try:\n",
    "        calculator()\n",
    "        choice=int(input(\"Enter Your Choice:\"))\n",
    "        if choice==6:\n",
    "            print(\"Thank You for using the calculator!\")\n",
    "            break\n",
    "        elif choice in (1,2,3,4,5):\n",
    "            try:\n",
    "                num1=float(input(\"Enter the First Number:\"))\n",
    "                num2=float(input(\"Enter the Second Number:\"))\n",
    "            except ValueError:\n",
    "                print(\"Please enter valid number \")\n",
    "            if choice==1:\n",
    "                try:\n",
    "                    def add(a,b):\n",
    "                        return a+b\n",
    "                    print(\"Sum of {},{} is {}\".format(num1,num2,add(num1+num2)))\n",
    "                except TypeError:\n",
    "                    print(\"don't use alnums,alphabets,special symbols or space--try again\")\n",
    "            elif choice==2:\n",
    "                try:\n",
    "                    def subtract(a,b):\n",
    "                        return a-b\n",
    "                    print(\"Subtraction of {},{} is {}\".format(num1,num2,subtract(num1,num2)))\n",
    "                except TypeError:\n",
    "                    print(\"don't use alnums,alphabets,special symbols or space--try again\")\n",
    "            elif choice==3:\n",
    "                try:\n",
    "                    def multiply(a,b):\n",
    "                        return a*b\n",
    "                    print(\"Multiplication of {},{} is {}\".format(num1,num2,multiply(num1,num2)))\n",
    "                except TypeError:\n",
    "                    print(\"don't use alnums,alphabets,special symbols or space--try again\")\n",
    "            elif choice==4:\n",
    "                try:\n",
    "                    def divide(a, b):\n",
    "                            if b == 0:\n",
    "                                raise ZeroDivisionError(\"Division by zero is not allowed.\")\n",
    "                            return a / b\n",
    "                    print(\"Division of {},{} is {}\".format(num1,num2,divide(num1,num2)))\n",
    "                except TypeError:\n",
    "                    print(\"don't use alnums,alphabets,special symbols or space--try again\")\n",
    "            elif choice==5:\n",
    "                try:\n",
    "                    def power(a, b):\n",
    "                        if a == 0 and b < 0:\n",
    "                            raise ValueError(\"Zero cannot be raised to a negative power.\")\n",
    "                        return a ** b\n",
    "                    print(\"Power of {},{} is {}\".format(num1,num2,power(num1,num2)))\n",
    "                except TypeError:\n",
    "                    print(\"don't use alnums,alphabets,special symbols or space--try again\")  \n",
    "        else:\n",
    "            print(\"Invalid choice! Please select a valid operation.\")\n",
    "    except ValueError:\n",
    "        print(\"Invalid input! Please enter a number corresponding to the menu options.\")"
   ]
  },
  {
   "cell_type": "code",
   "execution_count": null,
   "id": "05a84107-e242-42d8-a17b-5f6e17584537",
   "metadata": {},
   "outputs": [],
   "source": []
  }
 ],
 "metadata": {
  "kernelspec": {
   "display_name": "Python 3 (ipykernel)",
   "language": "python",
   "name": "python3"
  },
  "language_info": {
   "codemirror_mode": {
    "name": "ipython",
    "version": 3
   },
   "file_extension": ".py",
   "mimetype": "text/x-python",
   "name": "python",
   "nbconvert_exporter": "python",
   "pygments_lexer": "ipython3",
   "version": "3.12.4"
  }
 },
 "nbformat": 4,
 "nbformat_minor": 5
}
